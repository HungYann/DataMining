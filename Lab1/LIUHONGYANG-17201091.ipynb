{
 "cells": [
  {
   "cell_type": "markdown",
   "metadata": {},
   "source": [
    "### Exploring data"
   ]
  },
  {
   "cell_type": "markdown",
   "metadata": {},
   "source": [
    "You will be learned about how to load the lab1 dataset and review overall information about fields in the dataset."
   ]
  },
  {
   "cell_type": "code",
   "execution_count": 1,
   "metadata": {},
   "outputs": [
    {
     "data": {
      "text/plain": [
       "Index(['TargetB', 'ID', 'TargetD', 'GiftCnt36', 'GiftCntAll', 'GiftCntCard36',\n",
       "       'GiftCntCardAll', 'GiftAvgLast', 'GiftAvg36', 'GiftAvgAll',\n",
       "       'GiftAvgCard36', 'GiftTimeLast', 'GiftTimeFirst', 'PromCnt12',\n",
       "       'PromCnt36', 'PromCntAll', 'PromCntCard12', 'PromCntCard36',\n",
       "       'PromCntCardAll', 'StatusCat96NK', 'StatusCatStarAll', 'DemCluster',\n",
       "       'DemAge', 'DemGender', 'DemHomeOwner', 'DemMedHomeValue',\n",
       "       'DemPctVeterans', 'DemMedIncome'],\n",
       "      dtype='object')"
      ]
     },
     "execution_count": 1,
     "metadata": {},
     "output_type": "execute_result"
    }
   ],
   "source": [
    "import pandas as pd\n",
    "df=pd.read_csv(\"lab1.csv\")\n",
    "df.columns"
   ]
  },
  {
   "cell_type": "markdown",
   "metadata": {},
   "source": [
    "Firstly, let's take a closer look on the dataset. The dataframe .info() output revealed a number of important information from the dataset:\n",
    "\n",
    "Number of rows (or entries): 9686\n",
    "Number of fields (or columns): 28\n",
    "Number of entries and data type for each column: \n",
    "\n",
    "e.g. 9686 entries and integer number for Target B; \n",
    "     9686 entries and floating point for GiftAvgCard36.\n",
    "     \n",
    "From point three, we learned there are irregularities in some columns. \n",
    "\n",
    "For example, with 9686 rows in the whole dataset, there are only 7906 data points in GiftAvgCard36. \n",
    "\n",
    "This requires a deeper investigation of each column."
   ]
  },
  {
   "cell_type": "code",
   "execution_count": 2,
   "metadata": {},
   "outputs": [
    {
     "name": "stdout",
     "output_type": "stream",
     "text": [
      "<class 'pandas.core.frame.DataFrame'>\n",
      "RangeIndex: 9686 entries, 0 to 9685\n",
      "Data columns (total 28 columns):\n",
      "TargetB             9686 non-null int64\n",
      "ID                  9686 non-null int64\n",
      "TargetD             4843 non-null float64\n",
      "GiftCnt36           9686 non-null int64\n",
      "GiftCntAll          9686 non-null int64\n",
      "GiftCntCard36       9686 non-null int64\n",
      "GiftCntCardAll      9686 non-null int64\n",
      "GiftAvgLast         9686 non-null float64\n",
      "GiftAvg36           9686 non-null float64\n",
      "GiftAvgAll          9686 non-null float64\n",
      "GiftAvgCard36       7906 non-null float64\n",
      "GiftTimeLast        9686 non-null int64\n",
      "GiftTimeFirst       9686 non-null int64\n",
      "PromCnt12           9686 non-null int64\n",
      "PromCnt36           9686 non-null int64\n",
      "PromCntAll          9686 non-null int64\n",
      "PromCntCard12       9686 non-null int64\n",
      "PromCntCard36       9686 non-null int64\n",
      "PromCntCardAll      9686 non-null int64\n",
      "StatusCat96NK       9686 non-null object\n",
      "StatusCatStarAll    9686 non-null int64\n",
      "DemCluster          9686 non-null int64\n",
      "DemAge              7279 non-null float64\n",
      "DemGender           9686 non-null object\n",
      "DemHomeOwner        9686 non-null object\n",
      "DemMedHomeValue     9686 non-null int64\n",
      "DemPctVeterans      9686 non-null int64\n",
      "DemMedIncome        9686 non-null int64\n",
      "dtypes: float64(6), int64(19), object(3)\n",
      "memory usage: 2.1+ MB\n"
     ]
    }
   ],
   "source": [
    "df.info()"
   ]
  },
  {
   "attachments": {},
   "cell_type": "markdown",
   "metadata": {},
   "source": [
    "#####  2.1. Explore column data!"
   ]
  },
  {
   "attachments": {},
   "cell_type": "markdown",
   "metadata": {},
   "source": [
    "Let's start with .describe(). Run the following command into your iPython console."
   ]
  },
  {
   "cell_type": "code",
   "execution_count": 3,
   "metadata": {},
   "outputs": [
    {
     "data": {
      "text/html": [
       "<div>\n",
       "<style scoped>\n",
       "    .dataframe tbody tr th:only-of-type {\n",
       "        vertical-align: middle;\n",
       "    }\n",
       "\n",
       "    .dataframe tbody tr th {\n",
       "        vertical-align: top;\n",
       "    }\n",
       "\n",
       "    .dataframe thead th {\n",
       "        text-align: right;\n",
       "    }\n",
       "</style>\n",
       "<table border=\"1\" class=\"dataframe\">\n",
       "  <thead>\n",
       "    <tr style=\"text-align: right;\">\n",
       "      <th></th>\n",
       "      <th>TargetB</th>\n",
       "      <th>ID</th>\n",
       "      <th>TargetD</th>\n",
       "      <th>GiftCnt36</th>\n",
       "      <th>GiftCntAll</th>\n",
       "      <th>GiftCntCard36</th>\n",
       "      <th>GiftCntCardAll</th>\n",
       "      <th>GiftAvgLast</th>\n",
       "      <th>GiftAvg36</th>\n",
       "      <th>GiftAvgAll</th>\n",
       "      <th>...</th>\n",
       "      <th>PromCntAll</th>\n",
       "      <th>PromCntCard12</th>\n",
       "      <th>PromCntCard36</th>\n",
       "      <th>PromCntCardAll</th>\n",
       "      <th>StatusCatStarAll</th>\n",
       "      <th>DemCluster</th>\n",
       "      <th>DemAge</th>\n",
       "      <th>DemMedHomeValue</th>\n",
       "      <th>DemPctVeterans</th>\n",
       "      <th>DemMedIncome</th>\n",
       "    </tr>\n",
       "  </thead>\n",
       "  <tbody>\n",
       "    <tr>\n",
       "      <th>count</th>\n",
       "      <td>9686.000000</td>\n",
       "      <td>9686.000000</td>\n",
       "      <td>4843.000000</td>\n",
       "      <td>9686.000000</td>\n",
       "      <td>9686.000000</td>\n",
       "      <td>9686.000000</td>\n",
       "      <td>9686.000000</td>\n",
       "      <td>9686.000000</td>\n",
       "      <td>9686.000000</td>\n",
       "      <td>9686.000000</td>\n",
       "      <td>...</td>\n",
       "      <td>9686.000000</td>\n",
       "      <td>9686.000000</td>\n",
       "      <td>9686.000000</td>\n",
       "      <td>9686.000000</td>\n",
       "      <td>9686.000000</td>\n",
       "      <td>9686.000000</td>\n",
       "      <td>7279.000000</td>\n",
       "      <td>9686.000000</td>\n",
       "      <td>9686.000000</td>\n",
       "      <td>9686.000000</td>\n",
       "    </tr>\n",
       "    <tr>\n",
       "      <th>mean</th>\n",
       "      <td>0.500000</td>\n",
       "      <td>97975.474086</td>\n",
       "      <td>15.624344</td>\n",
       "      <td>3.205451</td>\n",
       "      <td>10.507640</td>\n",
       "      <td>1.856597</td>\n",
       "      <td>5.582490</td>\n",
       "      <td>16.017739</td>\n",
       "      <td>14.876203</td>\n",
       "      <td>12.489325</td>\n",
       "      <td>...</td>\n",
       "      <td>48.483481</td>\n",
       "      <td>5.392009</td>\n",
       "      <td>11.954677</td>\n",
       "      <td>19.007124</td>\n",
       "      <td>0.540574</td>\n",
       "      <td>27.150320</td>\n",
       "      <td>59.150845</td>\n",
       "      <td>110986.299814</td>\n",
       "      <td>30.604274</td>\n",
       "      <td>40491.444249</td>\n",
       "    </tr>\n",
       "    <tr>\n",
       "      <th>std</th>\n",
       "      <td>0.500026</td>\n",
       "      <td>56550.171120</td>\n",
       "      <td>12.445137</td>\n",
       "      <td>2.133421</td>\n",
       "      <td>8.993401</td>\n",
       "      <td>1.595419</td>\n",
       "      <td>4.736894</td>\n",
       "      <td>12.041805</td>\n",
       "      <td>10.057007</td>\n",
       "      <td>9.209297</td>\n",
       "      <td>...</td>\n",
       "      <td>23.061483</td>\n",
       "      <td>1.323648</td>\n",
       "      <td>4.571568</td>\n",
       "      <td>8.562193</td>\n",
       "      <td>0.498377</td>\n",
       "      <td>14.832665</td>\n",
       "      <td>16.516400</td>\n",
       "      <td>98670.855450</td>\n",
       "      <td>11.394988</td>\n",
       "      <td>28707.494146</td>\n",
       "    </tr>\n",
       "    <tr>\n",
       "      <th>min</th>\n",
       "      <td>0.000000</td>\n",
       "      <td>12.000000</td>\n",
       "      <td>1.000000</td>\n",
       "      <td>0.000000</td>\n",
       "      <td>1.000000</td>\n",
       "      <td>0.000000</td>\n",
       "      <td>0.000000</td>\n",
       "      <td>0.000000</td>\n",
       "      <td>0.000000</td>\n",
       "      <td>1.500000</td>\n",
       "      <td>...</td>\n",
       "      <td>5.000000</td>\n",
       "      <td>0.000000</td>\n",
       "      <td>2.000000</td>\n",
       "      <td>2.000000</td>\n",
       "      <td>0.000000</td>\n",
       "      <td>0.000000</td>\n",
       "      <td>0.000000</td>\n",
       "      <td>0.000000</td>\n",
       "      <td>0.000000</td>\n",
       "      <td>0.000000</td>\n",
       "    </tr>\n",
       "    <tr>\n",
       "      <th>25%</th>\n",
       "      <td>0.000000</td>\n",
       "      <td>48835.500000</td>\n",
       "      <td>10.000000</td>\n",
       "      <td>2.000000</td>\n",
       "      <td>4.000000</td>\n",
       "      <td>1.000000</td>\n",
       "      <td>2.000000</td>\n",
       "      <td>10.000000</td>\n",
       "      <td>9.600000</td>\n",
       "      <td>7.750000</td>\n",
       "      <td>...</td>\n",
       "      <td>29.000000</td>\n",
       "      <td>5.000000</td>\n",
       "      <td>7.000000</td>\n",
       "      <td>12.000000</td>\n",
       "      <td>0.000000</td>\n",
       "      <td>14.000000</td>\n",
       "      <td>47.000000</td>\n",
       "      <td>52300.000000</td>\n",
       "      <td>25.000000</td>\n",
       "      <td>24464.000000</td>\n",
       "    </tr>\n",
       "    <tr>\n",
       "      <th>50%</th>\n",
       "      <td>0.500000</td>\n",
       "      <td>99106.000000</td>\n",
       "      <td>13.000000</td>\n",
       "      <td>3.000000</td>\n",
       "      <td>8.000000</td>\n",
       "      <td>1.000000</td>\n",
       "      <td>4.000000</td>\n",
       "      <td>15.000000</td>\n",
       "      <td>13.500000</td>\n",
       "      <td>10.710000</td>\n",
       "      <td>...</td>\n",
       "      <td>48.000000</td>\n",
       "      <td>6.000000</td>\n",
       "      <td>13.000000</td>\n",
       "      <td>19.000000</td>\n",
       "      <td>1.000000</td>\n",
       "      <td>27.000000</td>\n",
       "      <td>60.000000</td>\n",
       "      <td>76900.000000</td>\n",
       "      <td>31.000000</td>\n",
       "      <td>43100.000000</td>\n",
       "    </tr>\n",
       "    <tr>\n",
       "      <th>75%</th>\n",
       "      <td>1.000000</td>\n",
       "      <td>148538.750000</td>\n",
       "      <td>20.000000</td>\n",
       "      <td>4.000000</td>\n",
       "      <td>15.000000</td>\n",
       "      <td>3.000000</td>\n",
       "      <td>8.000000</td>\n",
       "      <td>20.000000</td>\n",
       "      <td>18.500000</td>\n",
       "      <td>15.000000</td>\n",
       "      <td>...</td>\n",
       "      <td>65.000000</td>\n",
       "      <td>6.000000</td>\n",
       "      <td>16.000000</td>\n",
       "      <td>26.000000</td>\n",
       "      <td>1.000000</td>\n",
       "      <td>40.000000</td>\n",
       "      <td>73.000000</td>\n",
       "      <td>128175.000000</td>\n",
       "      <td>37.000000</td>\n",
       "      <td>56876.000000</td>\n",
       "    </tr>\n",
       "    <tr>\n",
       "      <th>max</th>\n",
       "      <td>1.000000</td>\n",
       "      <td>191779.000000</td>\n",
       "      <td>200.000000</td>\n",
       "      <td>16.000000</td>\n",
       "      <td>91.000000</td>\n",
       "      <td>9.000000</td>\n",
       "      <td>41.000000</td>\n",
       "      <td>450.000000</td>\n",
       "      <td>260.000000</td>\n",
       "      <td>450.000000</td>\n",
       "      <td>...</td>\n",
       "      <td>174.000000</td>\n",
       "      <td>17.000000</td>\n",
       "      <td>28.000000</td>\n",
       "      <td>56.000000</td>\n",
       "      <td>1.000000</td>\n",
       "      <td>53.000000</td>\n",
       "      <td>87.000000</td>\n",
       "      <td>600000.000000</td>\n",
       "      <td>85.000000</td>\n",
       "      <td>200001.000000</td>\n",
       "    </tr>\n",
       "  </tbody>\n",
       "</table>\n",
       "<p>8 rows × 25 columns</p>\n",
       "</div>"
      ],
      "text/plain": [
       "           TargetB             ID      TargetD    GiftCnt36   GiftCntAll  \\\n",
       "count  9686.000000    9686.000000  4843.000000  9686.000000  9686.000000   \n",
       "mean      0.500000   97975.474086    15.624344     3.205451    10.507640   \n",
       "std       0.500026   56550.171120    12.445137     2.133421     8.993401   \n",
       "min       0.000000      12.000000     1.000000     0.000000     1.000000   \n",
       "25%       0.000000   48835.500000    10.000000     2.000000     4.000000   \n",
       "50%       0.500000   99106.000000    13.000000     3.000000     8.000000   \n",
       "75%       1.000000  148538.750000    20.000000     4.000000    15.000000   \n",
       "max       1.000000  191779.000000   200.000000    16.000000    91.000000   \n",
       "\n",
       "       GiftCntCard36  GiftCntCardAll  GiftAvgLast    GiftAvg36   GiftAvgAll  \\\n",
       "count    9686.000000     9686.000000  9686.000000  9686.000000  9686.000000   \n",
       "mean        1.856597        5.582490    16.017739    14.876203    12.489325   \n",
       "std         1.595419        4.736894    12.041805    10.057007     9.209297   \n",
       "min         0.000000        0.000000     0.000000     0.000000     1.500000   \n",
       "25%         1.000000        2.000000    10.000000     9.600000     7.750000   \n",
       "50%         1.000000        4.000000    15.000000    13.500000    10.710000   \n",
       "75%         3.000000        8.000000    20.000000    18.500000    15.000000   \n",
       "max         9.000000       41.000000   450.000000   260.000000   450.000000   \n",
       "\n",
       "       ...   PromCntAll  PromCntCard12  PromCntCard36  PromCntCardAll  \\\n",
       "count  ...  9686.000000    9686.000000    9686.000000     9686.000000   \n",
       "mean   ...    48.483481       5.392009      11.954677       19.007124   \n",
       "std    ...    23.061483       1.323648       4.571568        8.562193   \n",
       "min    ...     5.000000       0.000000       2.000000        2.000000   \n",
       "25%    ...    29.000000       5.000000       7.000000       12.000000   \n",
       "50%    ...    48.000000       6.000000      13.000000       19.000000   \n",
       "75%    ...    65.000000       6.000000      16.000000       26.000000   \n",
       "max    ...   174.000000      17.000000      28.000000       56.000000   \n",
       "\n",
       "       StatusCatStarAll   DemCluster       DemAge  DemMedHomeValue  \\\n",
       "count       9686.000000  9686.000000  7279.000000      9686.000000   \n",
       "mean           0.540574    27.150320    59.150845    110986.299814   \n",
       "std            0.498377    14.832665    16.516400     98670.855450   \n",
       "min            0.000000     0.000000     0.000000         0.000000   \n",
       "25%            0.000000    14.000000    47.000000     52300.000000   \n",
       "50%            1.000000    27.000000    60.000000     76900.000000   \n",
       "75%            1.000000    40.000000    73.000000    128175.000000   \n",
       "max            1.000000    53.000000    87.000000    600000.000000   \n",
       "\n",
       "       DemPctVeterans   DemMedIncome  \n",
       "count     9686.000000    9686.000000  \n",
       "mean        30.604274   40491.444249  \n",
       "std         11.394988   28707.494146  \n",
       "min          0.000000       0.000000  \n",
       "25%         25.000000   24464.000000  \n",
       "50%         31.000000   43100.000000  \n",
       "75%         37.000000   56876.000000  \n",
       "max         85.000000  200001.000000  \n",
       "\n",
       "[8 rows x 25 columns]"
      ]
     },
     "execution_count": 3,
     "metadata": {},
     "output_type": "execute_result"
    }
   ],
   "source": [
    "df.describe()"
   ]
  },
  {
   "cell_type": "markdown",
   "metadata": {},
   "source": [
    "To check the unique values and how many records for each value, we could use .unique() and .value_counts() functions."
   ]
  },
  {
   "cell_type": "code",
   "execution_count": 4,
   "metadata": {},
   "outputs": [
    {
     "data": {
      "text/plain": [
       "array([nan, 67., 53., 47., 58., 39., 50., 45., 80., 61., 76., 41., 75.,\n",
       "       59., 51., 31., 54., 70., 42., 65., 81., 38., 56., 69., 52., 33.,\n",
       "       73., 71., 29., 60., 83., 43., 35., 77., 44., 72., 64., 34., 55.,\n",
       "       37., 57., 46., 49., 32., 66., 87., 40., 79., 25., 63., 62., 48.,\n",
       "       68., 86., 23., 27., 74., 78., 85., 26.,  7., 36., 82., 24., 17.,\n",
       "       30., 84., 21., 28., 22., 19., 16., 14.,  6.,  0.,  2., 20., 18.,\n",
       "       15.,  4.])"
      ]
     },
     "execution_count": 4,
     "metadata": {},
     "output_type": "execute_result"
    }
   ],
   "source": [
    "df['DemAge'].unique()"
   ]
  },
  {
   "cell_type": "code",
   "execution_count": 5,
   "metadata": {},
   "outputs": [
    {
     "data": {
      "text/plain": [
       "(69.6, 78.3]     1437\n",
       "(60.9, 69.6]     1250\n",
       "(43.5, 52.2]     1223\n",
       "(52.2, 60.9]     1043\n",
       "(78.3, 87.0]      932\n",
       "(34.8, 43.5]      889\n",
       "(26.1, 34.8]      342\n",
       "(17.4, 26.1]       72\n",
       "(8.7, 17.4]        53\n",
       "(-0.088, 8.7]      38\n",
       "Name: DemAge, dtype: int64"
      ]
     },
     "execution_count": 5,
     "metadata": {},
     "output_type": "execute_result"
    }
   ],
   "source": [
    "df['DemAge'].value_counts(bins=10)"
   ]
  },
  {
   "attachments": {},
   "cell_type": "markdown",
   "metadata": {},
   "source": [
    "There are only 7279 records in \"DemAge\" column (from .describe()'s count output), while the total number of records in this data set \n",
    "is 9686. "
   ]
  },
  {
   "cell_type": "markdown",
   "metadata": {},
   "source": [
    "Could you spot data problems in other columns using .describe(), .unique() and .value_counts()?"
   ]
  },
  {
   "cell_type": "code",
   "execution_count": 6,
   "metadata": {},
   "outputs": [
    {
     "data": {
      "text/plain": [
       "count    7906.000000\n",
       "mean       14.224431\n",
       "std        10.022710\n",
       "min         1.330000\n",
       "25%         8.670000\n",
       "50%        12.500000\n",
       "75%        18.000000\n",
       "max       260.000000\n",
       "Name: GiftAvgCard36, dtype: float64"
      ]
     },
     "execution_count": 6,
     "metadata": {},
     "output_type": "execute_result"
    }
   ],
   "source": [
    "df['GiftAvgCard36'].describe()"
   ]
  },
  {
   "cell_type": "code",
   "execution_count": 7,
   "metadata": {},
   "outputs": [
    {
     "data": {
      "text/plain": [
       "array([ 17.  ,    nan,   5.  ,   8.67,  20.  ,   8.  ,   6.  ,   5.33,\n",
       "        15.  ,   5.67,  50.  ,  36.  ,   7.5 ,  10.  ,  10.33,   9.67,\n",
       "        16.5 ,  16.33,   3.5 ,   6.5 ,  12.  ,  19.  ,  25.  ,  16.  ,\n",
       "         6.67,  13.33,  11.  ,   9.  ,   9.5 ,  12.5 ,   7.67,  14.  ,\n",
       "         4.5 ,  17.5 ,   5.14,   7.75,  15.5 ,   3.  ,  10.75,   6.75,\n",
       "        18.33,   7.  ,  28.33,  30.  ,  11.33,  13.  ,   9.8 ,  21.  ,\n",
       "        18.  ,   8.33,  16.6 ,  23.  ,  11.5 ,   4.75,   6.29,  14.5 ,\n",
       "         9.33,  12.33,   8.2 ,  13.67,  10.2 ,  26.67,  42.  ,   8.5 ,\n",
       "        22.5 ,   3.75,  11.67, 125.  ,  33.75,  62.  ,   4.33,  10.67,\n",
       "         9.4 , 100.  ,   5.5 ,   6.43,   6.25,  18.67,  14.33,   5.6 ,\n",
       "         6.33,  26.  ,  20.5 ,   2.86,   3.8 ,  22.6 ,  31.  ,   4.2 ,\n",
       "        19.17,  35.  ,   4.  ,  23.67,  42.5 ,  21.25,  13.5 ,   7.33,\n",
       "         7.4 ,  10.25,  22.33,  10.57,   7.25,  10.6 ,  44.5 ,  11.2 ,\n",
       "        32.5 ,  10.5 ,  11.25,   3.63,   9.63,   4.25,   4.83,   5.8 ,\n",
       "         4.67,  22.  ,  45.  ,  17.67,  19.5 ,  20.2 ,  18.75,   3.86,\n",
       "         7.71,  15.67,   4.57,   3.38,   6.14,   3.67,  16.67,  20.33,\n",
       "        18.5 ,  38.65,   7.88,   5.83,   9.83,  24.  ,  19.2 ,   8.25,\n",
       "        23.75,   5.57,  12.2 ,   9.75,  15.25,   4.29,  27.  ,  13.6 ,\n",
       "         5.2 ,  55.  ,   3.2 ,   9.25,   7.17,   1.75,   8.4 ,  24.5 ,\n",
       "         4.4 ,  13.8 , 260.  ,  19.75,  20.75,  12.67,  60.  ,  51.5 ,\n",
       "         7.9 ,  11.6 ,  56.67,   4.6 ,  14.67,   5.75,  28.25,   2.5 ,\n",
       "         7.8 ,  18.8 ,  40.  ,  13.2 ,  10.8 ,  84.67,   6.6 ,   5.25,\n",
       "        13.17,   4.8 ,  21.13,  11.4 ,   6.83,  13.83,   6.8 ,  21.5 ,\n",
       "        41.25,  13.4 ,   3.4 ,   4.13,   5.4 ,  27.5 ,   9.43,  12.71,\n",
       "         3.25,   2.  ,  13.25,  52.  ,   9.13,  21.67,   9.29,  11.75,\n",
       "        31.33,  17.25,  12.4 ,  53.  ,   8.6 ,  33.  ,   7.14,  12.25,\n",
       "         5.13,  29.  ,   8.75,  17.33,  30.5 ,  36.25,  12.75,  10.83,\n",
       "        12.14,   6.71,  28.  ,  10.4 ,  87.5 ,  15.33,  23.5 ,  27.67,\n",
       "        28.5 ,   2.67,   7.2 ,  19.67,  26.33,   6.38,  26.5 ,  38.5 ,\n",
       "        15.15,  16.8 ,  23.33,  11.88,  43.  ,  19.33,  26.75,   8.57,\n",
       "        41.  ,  12.13,   6.4 ,  16.2 ,   9.14,  25.5 ,   9.17,   9.6 ,\n",
       "         7.83,   5.38,   3.6 ,  10.65,  11.8 ,  46.5 ,  11.14,   2.75,\n",
       "         3.29,  46.33,   4.17,   4.89,  11.71,  37.5 ,  12.88,  22.67,\n",
       "        20.67,   3.33,   3.83,  16.25,   3.57,   2.33,  26.25,  49.5 ,\n",
       "         3.21,   7.6 ,   9.2 ,  47.5 ,  33.25,   2.63, 150.  ,   4.71,\n",
       "        32.  ,  14.17,  33.33,  20.17,  13.22,  15.6 ,  40.67,   6.63,\n",
       "        11.17,   4.14,   4.38,  10.43,  14.6 ,  17.75,  14.63,   4.43,\n",
       "         7.39,  17.8 ,   4.86,   5.71,  14.8 ,  38.67,  75.  ,   5.43,\n",
       "        24.25,  11.38,  13.26,   5.17,  42.33,  36.5 ,  24.33,  14.75,\n",
       "        19.8 ,  37.  ,  23.4 ,  37.4 ,   6.2 ,  14.25,  36.67,   7.63,\n",
       "        13.75,  41.67,   6.17,  19.25,  48.  ,   1.33,   8.29,  21.45,\n",
       "         3.71,  52.5 ,  18.17,  15.75,  10.22,  28.67,  38.75,   5.29,\n",
       "        38.33,   6.13,  31.67,   3.3 ,   8.07, 160.  ,  18.25,  36.75,\n",
       "        11.86,   7.57,  12.8 ,  14.13,  10.17,   8.83,  16.29,  15.4 ,\n",
       "        14.83,  51.67, 200.  ,  34.5 ,   4.88,  11.43,  80.  ,  70.  ,\n",
       "        13.29,  18.83,  16.75,  76.5 ,   5.78,  10.29,  29.5 ,   9.38,\n",
       "        24.67,  34.  ,  33.01,  31.25,  18.2 ,  15.2 ,  21.33,  15.8 ,\n",
       "        34.4 ,   8.14,  44.  ,  35.5 ,  25.25,  85.  ,  25.33,  70.5 ,\n",
       "        26.2 ,  10.14,  31.6 ,  25.67,   8.13,  73.33,  45.33,  21.75,\n",
       "        99.8 ,  21.4 ,  15.99,  55.34,   1.67,  21.6 ,  22.4 ,   8.8 ])"
      ]
     },
     "execution_count": 7,
     "metadata": {},
     "output_type": "execute_result"
    }
   ],
   "source": [
    "df['GiftAvgCard36'].unique()"
   ]
  },
  {
   "cell_type": "code",
   "execution_count": 8,
   "metadata": {},
   "outputs": [
    {
     "data": {
      "text/plain": [
       "(1.07, 27.197]        7556\n",
       "(27.197, 53.064]       301\n",
       "(53.064, 78.931]        23\n",
       "(78.931, 104.798]       20\n",
       "(104.798, 130.665]       2\n",
       "(234.133, 260.0]         1\n",
       "(182.399, 208.266]       1\n",
       "(156.532, 182.399]       1\n",
       "(130.665, 156.532]       1\n",
       "(208.266, 234.133]       0\n",
       "Name: GiftAvgCard36, dtype: int64"
      ]
     },
     "execution_count": 8,
     "metadata": {},
     "output_type": "execute_result"
    }
   ],
   "source": [
    "df['GiftAvgCard36'].value_counts(bins=10)"
   ]
  },
  {
   "cell_type": "markdown",
   "metadata": {},
   "source": [
    "There is also some probelms on attributes GiftAvgCard36."
   ]
  },
  {
   "cell_type": "markdown",
   "metadata": {},
   "source": [
    "##### 2.2. Grouping and plotting distributions of columns"
   ]
  },
  {
   "cell_type": "markdown",
   "metadata": {},
   "source": [
    "Let's start with age (DemAge). Run the following command to get the average age of lapsing donors vs non-lapsing donors."
   ]
  },
  {
   "cell_type": "code",
   "execution_count": 9,
   "metadata": {},
   "outputs": [],
   "source": [
    "group=df.groupby('TargetB')"
   ]
  },
  {
   "cell_type": "code",
   "execution_count": 10,
   "metadata": {},
   "outputs": [
    {
     "data": {
      "text/plain": [
       "TargetB\n",
       "0    58.304444\n",
       "1    59.979070\n",
       "Name: DemAge, dtype: float64"
      ]
     },
     "execution_count": 10,
     "metadata": {},
     "output_type": "execute_result"
    }
   ],
   "source": [
    "group['DemAge'].mean()"
   ]
  },
  {
   "cell_type": "markdown",
   "metadata": {},
   "source": [
    "Other than .mean(), we could also perform grouping with other method such as .value_counts() or .median(). "
   ]
  },
  {
   "cell_type": "code",
   "execution_count": 11,
   "metadata": {},
   "outputs": [
    {
     "data": {
      "text/plain": [
       "TargetB  DemAge\n",
       "0        73.0      108\n",
       "         57.0      107\n",
       "         49.0      105\n",
       "         65.0      102\n",
       "         55.0      100\n",
       "         67.0       96\n",
       "         75.0       90\n",
       "         47.0       88\n",
       "         51.0       85\n",
       "         79.0       83\n",
       "         45.0       81\n",
       "         69.0       80\n",
       "         71.0       77\n",
       "         74.0       77\n",
       "         77.0       75\n",
       "         41.0       71\n",
       "         43.0       70\n",
       "         37.0       69\n",
       "         59.0       69\n",
       "         53.0       68\n",
       "         63.0       68\n",
       "         76.0       66\n",
       "         35.0       63\n",
       "         61.0       63\n",
       "         81.0       62\n",
       "         48.0       61\n",
       "         83.0       61\n",
       "         72.0       56\n",
       "         78.0       56\n",
       "         68.0       55\n",
       "                  ... \n",
       "1        56.0       36\n",
       "         86.0       34\n",
       "         87.0       33\n",
       "         84.0       32\n",
       "         85.0       29\n",
       "         27.0       26\n",
       "         31.0       25\n",
       "         36.0       25\n",
       "         33.0       24\n",
       "         38.0       24\n",
       "         17.0       18\n",
       "         34.0       18\n",
       "         29.0       16\n",
       "         7.0        11\n",
       "         32.0       11\n",
       "         30.0       10\n",
       "         26.0        9\n",
       "         28.0        8\n",
       "         24.0        5\n",
       "         16.0        4\n",
       "         25.0        4\n",
       "         23.0        3\n",
       "         19.0        2\n",
       "         22.0        2\n",
       "         4.0         1\n",
       "         6.0         1\n",
       "         14.0        1\n",
       "         15.0        1\n",
       "         20.0        1\n",
       "         21.0        1\n",
       "Name: DemAge, Length: 151, dtype: int64"
      ]
     },
     "execution_count": 11,
     "metadata": {},
     "output_type": "execute_result"
    }
   ],
   "source": [
    "group['DemAge'].value_counts()"
   ]
  },
  {
   "cell_type": "code",
   "execution_count": 12,
   "metadata": {},
   "outputs": [
    {
     "data": {
      "text/plain": [
       "TargetB\n",
       "0    59.0\n",
       "1    61.0\n",
       "Name: DemAge, dtype: float64"
      ]
     },
     "execution_count": 12,
     "metadata": {},
     "output_type": "execute_result"
    }
   ],
   "source": [
    "group['DemAge'].median()"
   ]
  },
  {
   "cell_type": "markdown",
   "metadata": {},
   "source": [
    "Use value_counts() to get gender of lapsing and non-lapsing donors."
   ]
  },
  {
   "cell_type": "code",
   "execution_count": 13,
   "metadata": {},
   "outputs": [
    {
     "data": {
      "text/plain": [
       "TargetB  DemGender\n",
       "0        F            2614\n",
       "         M            1963\n",
       "         U             266\n",
       "1        F            2609\n",
       "         M            1962\n",
       "         U             272\n",
       "Name: DemGender, dtype: int64"
      ]
     },
     "execution_count": 13,
     "metadata": {},
     "output_type": "execute_result"
    }
   ],
   "source": [
    "group['DemGender'].value_counts()"
   ]
  },
  {
   "cell_type": "markdown",
   "metadata": {},
   "source": [
    "add normalisation to get the relative frequency"
   ]
  },
  {
   "cell_type": "code",
   "execution_count": 14,
   "metadata": {},
   "outputs": [
    {
     "data": {
      "text/plain": [
       "TargetB  DemGender\n",
       "0        F            2.614\n",
       "         M            1.963\n",
       "         U            0.266\n",
       "1        F            2.609\n",
       "         M            1.962\n",
       "         U            0.272\n",
       "Name: DemGender, dtype: float64"
      ]
     },
     "execution_count": 14,
     "metadata": {},
     "output_type": "execute_result"
    }
   ],
   "source": [
    "group['DemGender'].value_counts()/1000"
   ]
  },
  {
   "cell_type": "markdown",
   "metadata": {},
   "source": [
    "##### distplot"
   ]
  },
  {
   "cell_type": "code",
   "execution_count": 15,
   "metadata": {},
   "outputs": [
    {
     "data": {
      "text/plain": [
       "<matplotlib.axes._subplots.AxesSubplot at 0x1a25286320>"
      ]
     },
     "execution_count": 15,
     "metadata": {},
     "output_type": "execute_result"
    },
    {
     "data": {
      "image/png": "[encoded data removed]",
      "text/plain": [
       "<Figure size 432x288 with 1 Axes>"
      ]
     },
     "metadata": {
      "needs_background": "light"
     },
     "output_type": "display_data"
    }
   ],
   "source": [
    "import pandas as pd\n",
    "pd.plotting.register_matplotlib_converters()\n",
    "import matplotlib.pyplot as plt\n",
    "%matplotlib inline\n",
    "import seaborn as sns\n",
    "\n",
    "df2=df.dropna()\n",
    "sns.distplot(a=df2['DemAge'], kde=False)"
   ]
  },
  {
   "cell_type": "markdown",
   "metadata": {},
   "source": [
    "##### countplot "
   ]
  },
  {
   "cell_type": "code",
   "execution_count": 16,
   "metadata": {},
   "outputs": [
    {
     "data": {
      "text/plain": [
       "<matplotlib.axes._subplots.AxesSubplot at 0x1a253548d0>"
      ]
     },
     "execution_count": 16,
     "metadata": {},
     "output_type": "execute_result"
    },
    {
     "data": {
      "image/png": "[encoded data removed]",
      "text/plain": [
       "<Figure size 432x288 with 1 Axes>"
      ]
     },
     "metadata": {
      "needs_background": "light"
     },
     "output_type": "display_data"
    }
   ],
   "source": [
    "import pandas as pd\n",
    "pd.plotting.register_matplotlib_converters()\n",
    "import matplotlib.pyplot as plt\n",
    "%matplotlib inline\n",
    "import seaborn as sns\n",
    "\n",
    "sns.countplot(x=\"DemGender\",hue=\"DemGender\",data=df)"
   ]
  },
  {
   "cell_type": "markdown",
   "metadata": {},
   "source": [
    "##### boxplot"
   ]
  },
  {
   "cell_type": "code",
   "execution_count": 17,
   "metadata": {},
   "outputs": [
    {
     "data": {
      "text/plain": [
       "<matplotlib.axes._subplots.AxesSubplot at 0x1a25459eb8>"
      ]
     },
     "execution_count": 17,
     "metadata": {},
     "output_type": "execute_result"
    },
    {
     "data": {
      "image/png": "[encoded data removed]",
      "text/plain": [
       "<Figure size 432x288 with 1 Axes>"
      ]
     },
     "metadata": {
      "needs_background": "light"
     },
     "output_type": "display_data"
    }
   ],
   "source": [
    "sns.boxplot(x=\"TargetB\", y=\"DemMedHomeValue\", data=df)"
   ]
  },
  {
   "cell_type": "markdown",
   "metadata": {},
   "source": [
    "### Modifying and Correcting Data"
   ]
  },
  {
   "attachments": {},
   "cell_type": "markdown",
   "metadata": {},
   "source": [
    "3.1. Setting correct type to variables\n",
    "\n",
    "a) Incorrect type used for DemCluster and DemHomeOwner. DemCluster should be an categorical/nominal variable\n",
    "    and DemHomeOwner should be a binary variable."
   ]
  },
  {
   "cell_type": "code",
   "execution_count": 18,
   "metadata": {},
   "outputs": [],
   "source": [
    "#DemCluster type\n",
    "df.DemCluster.dtypes\n",
    "df['DemCluster'] = df['DemCluster'].astype(object)"
   ]
  },
  {
   "cell_type": "code",
   "execution_count": 19,
   "metadata": {},
   "outputs": [],
   "source": [
    "#DemHomeOwner type\n",
    "df.DemHomeOwner.dtypes\n",
    "#DemHomeOwner should be a binary variable\n",
    "df['DemHomeOwner']=df['DemHomeOwner'].replace({'H':1,'U':0})"
   ]
  },
  {
   "attachments": {},
   "cell_type": "markdown",
   "metadata": {},
   "source": [
    "3.2. Correcting invalid values\n",
    "\n",
    "b) Errorneous/invalid values (0) in DemMedIncome and DemAge."
   ]
  },
  {
   "cell_type": "code",
   "execution_count": 20,
   "metadata": {},
   "outputs": [],
   "source": [
    "#use the median value to relpace 0 vlaue\n",
    "df['DemMedIncome'] = df['DemMedIncome'].replace({0:df['DemMedIncome'].median()})\n",
    "df['DemAge'] = df['DemAge'].replace({0:df['DemAge'].median()})"
   ]
  },
  {
   "attachments": {},
   "cell_type": "markdown",
   "metadata": {},
   "source": [
    "3.3. Imputing Missing Values\n",
    "\n",
    "c) Missing values in DemAge, DemMedIncome, GiftAvgCard36."
   ]
  },
  {
   "cell_type": "code",
   "execution_count": 21,
   "metadata": {},
   "outputs": [],
   "source": [
    "df['DemAge'].fillna(df['DemAge'].median(), inplace=True)\n",
    "df['DemMedIncome'].fillna(df['DemMedIncome'].median(), inplace = True)\n",
    "df['GiftAvgCard36'].fillna(df['GiftAvgCard36'].median(), inplace = True)"
   ]
  },
  {
   "attachments": {},
   "cell_type": "markdown",
   "metadata": {},
   "source": [
    "3.4. Dropping Unnecessary Variables\n",
    "\n",
    "d) Redundant variables in ID and TargetD."
   ]
  },
  {
   "cell_type": "code",
   "execution_count": 22,
   "metadata": {},
   "outputs": [],
   "source": [
    "#delete columns\n",
    "df = df.drop(['ID'], axis=1)\n",
    "df = df.drop(['TargetD'], axis=1)"
   ]
  },
  {
   "cell_type": "markdown",
   "metadata": {},
   "source": [
    "3.5. Formatting Categorical Variable"
   ]
  },
  {
   "cell_type": "code",
   "execution_count": 23,
   "metadata": {},
   "outputs": [],
   "source": [
    "df['TargetB'] = df['TargetB'].astype(object)\n",
    "df['TargetB'] = df['TargetB'].replace({0:False,1:True})"
   ]
  },
  {
   "cell_type": "markdown",
   "metadata": {},
   "source": [
    "3.6. Wrapping up"
   ]
  },
  {
   "cell_type": "code",
   "execution_count": 24,
   "metadata": {},
   "outputs": [
    {
     "data": {
      "text/html": [
       "<div>\n",
       "<style scoped>\n",
       "    .dataframe tbody tr th:only-of-type {\n",
       "        vertical-align: middle;\n",
       "    }\n",
       "\n",
       "    .dataframe tbody tr th {\n",
       "        vertical-align: top;\n",
       "    }\n",
       "\n",
       "    .dataframe thead th {\n",
       "        text-align: right;\n",
       "    }\n",
       "</style>\n",
       "<table border=\"1\" class=\"dataframe\">\n",
       "  <thead>\n",
       "    <tr style=\"text-align: right;\">\n",
       "      <th></th>\n",
       "      <th>TargetB</th>\n",
       "      <th>GiftCnt36</th>\n",
       "      <th>GiftCntAll</th>\n",
       "      <th>GiftCntCard36</th>\n",
       "      <th>GiftCntCardAll</th>\n",
       "      <th>GiftAvgLast</th>\n",
       "      <th>GiftAvg36</th>\n",
       "      <th>GiftAvgAll</th>\n",
       "      <th>GiftAvgCard36</th>\n",
       "      <th>GiftTimeLast</th>\n",
       "      <th>...</th>\n",
       "      <th>PromCntCardAll</th>\n",
       "      <th>StatusCat96NK</th>\n",
       "      <th>StatusCatStarAll</th>\n",
       "      <th>DemCluster</th>\n",
       "      <th>DemAge</th>\n",
       "      <th>DemGender</th>\n",
       "      <th>DemHomeOwner</th>\n",
       "      <th>DemMedHomeValue</th>\n",
       "      <th>DemPctVeterans</th>\n",
       "      <th>DemMedIncome</th>\n",
       "    </tr>\n",
       "  </thead>\n",
       "  <tbody>\n",
       "    <tr>\n",
       "      <th>0</th>\n",
       "      <td>False</td>\n",
       "      <td>2</td>\n",
       "      <td>4</td>\n",
       "      <td>1</td>\n",
       "      <td>3</td>\n",
       "      <td>17.0</td>\n",
       "      <td>13.50</td>\n",
       "      <td>9.25</td>\n",
       "      <td>17.00</td>\n",
       "      <td>21</td>\n",
       "      <td>...</td>\n",
       "      <td>13</td>\n",
       "      <td>A</td>\n",
       "      <td>0</td>\n",
       "      <td>0</td>\n",
       "      <td>60.0</td>\n",
       "      <td>F</td>\n",
       "      <td>0</td>\n",
       "      <td>0</td>\n",
       "      <td>0</td>\n",
       "      <td>43100.0</td>\n",
       "    </tr>\n",
       "    <tr>\n",
       "      <th>1</th>\n",
       "      <td>False</td>\n",
       "      <td>1</td>\n",
       "      <td>8</td>\n",
       "      <td>0</td>\n",
       "      <td>3</td>\n",
       "      <td>20.0</td>\n",
       "      <td>20.00</td>\n",
       "      <td>15.88</td>\n",
       "      <td>12.50</td>\n",
       "      <td>26</td>\n",
       "      <td>...</td>\n",
       "      <td>24</td>\n",
       "      <td>A</td>\n",
       "      <td>0</td>\n",
       "      <td>23</td>\n",
       "      <td>67.0</td>\n",
       "      <td>F</td>\n",
       "      <td>0</td>\n",
       "      <td>186800</td>\n",
       "      <td>85</td>\n",
       "      <td>43100.0</td>\n",
       "    </tr>\n",
       "    <tr>\n",
       "      <th>2</th>\n",
       "      <td>True</td>\n",
       "      <td>6</td>\n",
       "      <td>41</td>\n",
       "      <td>3</td>\n",
       "      <td>20</td>\n",
       "      <td>6.0</td>\n",
       "      <td>5.17</td>\n",
       "      <td>3.73</td>\n",
       "      <td>5.00</td>\n",
       "      <td>18</td>\n",
       "      <td>...</td>\n",
       "      <td>22</td>\n",
       "      <td>S</td>\n",
       "      <td>1</td>\n",
       "      <td>0</td>\n",
       "      <td>60.0</td>\n",
       "      <td>M</td>\n",
       "      <td>0</td>\n",
       "      <td>87600</td>\n",
       "      <td>36</td>\n",
       "      <td>38750.0</td>\n",
       "    </tr>\n",
       "    <tr>\n",
       "      <th>3</th>\n",
       "      <td>True</td>\n",
       "      <td>3</td>\n",
       "      <td>12</td>\n",
       "      <td>3</td>\n",
       "      <td>8</td>\n",
       "      <td>10.0</td>\n",
       "      <td>8.67</td>\n",
       "      <td>8.50</td>\n",
       "      <td>8.67</td>\n",
       "      <td>9</td>\n",
       "      <td>...</td>\n",
       "      <td>16</td>\n",
       "      <td>E</td>\n",
       "      <td>1</td>\n",
       "      <td>0</td>\n",
       "      <td>60.0</td>\n",
       "      <td>M</td>\n",
       "      <td>0</td>\n",
       "      <td>139200</td>\n",
       "      <td>27</td>\n",
       "      <td>38942.0</td>\n",
       "    </tr>\n",
       "    <tr>\n",
       "      <th>4</th>\n",
       "      <td>False</td>\n",
       "      <td>1</td>\n",
       "      <td>1</td>\n",
       "      <td>1</td>\n",
       "      <td>1</td>\n",
       "      <td>20.0</td>\n",
       "      <td>20.00</td>\n",
       "      <td>20.00</td>\n",
       "      <td>20.00</td>\n",
       "      <td>21</td>\n",
       "      <td>...</td>\n",
       "      <td>6</td>\n",
       "      <td>F</td>\n",
       "      <td>0</td>\n",
       "      <td>35</td>\n",
       "      <td>53.0</td>\n",
       "      <td>M</td>\n",
       "      <td>0</td>\n",
       "      <td>168100</td>\n",
       "      <td>37</td>\n",
       "      <td>71509.0</td>\n",
       "    </tr>\n",
       "  </tbody>\n",
       "</table>\n",
       "<p>5 rows × 26 columns</p>\n",
       "</div>"
      ],
      "text/plain": [
       "   TargetB  GiftCnt36  GiftCntAll  GiftCntCard36  GiftCntCardAll  GiftAvgLast  \\\n",
       "0    False          2           4              1               3         17.0   \n",
       "1    False          1           8              0               3         20.0   \n",
       "2     True          6          41              3              20          6.0   \n",
       "3     True          3          12              3               8         10.0   \n",
       "4    False          1           1              1               1         20.0   \n",
       "\n",
       "   GiftAvg36  GiftAvgAll  GiftAvgCard36  GiftTimeLast  ...  PromCntCardAll  \\\n",
       "0      13.50        9.25          17.00            21  ...              13   \n",
       "1      20.00       15.88          12.50            26  ...              24   \n",
       "2       5.17        3.73           5.00            18  ...              22   \n",
       "3       8.67        8.50           8.67             9  ...              16   \n",
       "4      20.00       20.00          20.00            21  ...               6   \n",
       "\n",
       "   StatusCat96NK  StatusCatStarAll  DemCluster  DemAge  DemGender  \\\n",
       "0              A                 0           0    60.0          F   \n",
       "1              A                 0          23    67.0          F   \n",
       "2              S                 1           0    60.0          M   \n",
       "3              E                 1           0    60.0          M   \n",
       "4              F                 0          35    53.0          M   \n",
       "\n",
       "   DemHomeOwner DemMedHomeValue  DemPctVeterans DemMedIncome  \n",
       "0             0               0               0      43100.0  \n",
       "1             0          186800              85      43100.0  \n",
       "2             0           87600              36      38750.0  \n",
       "3             0          139200              27      38942.0  \n",
       "4             0          168100              37      71509.0  \n",
       "\n",
       "[5 rows x 26 columns]"
      ]
     },
     "execution_count": 24,
     "metadata": {},
     "output_type": "execute_result"
    }
   ],
   "source": [
    "df.head()"
   ]
  },
  {
   "cell_type": "code",
   "execution_count": 25,
   "metadata": {},
   "outputs": [
    {
     "name": "stdout",
     "output_type": "stream",
     "text": [
      "<class 'pandas.core.frame.DataFrame'>\n",
      "RangeIndex: 9686 entries, 0 to 9685\n",
      "Data columns (total 26 columns):\n",
      "TargetB             9686 non-null bool\n",
      "GiftCnt36           9686 non-null int64\n",
      "GiftCntAll          9686 non-null int64\n",
      "GiftCntCard36       9686 non-null int64\n",
      "GiftCntCardAll      9686 non-null int64\n",
      "GiftAvgLast         9686 non-null float64\n",
      "GiftAvg36           9686 non-null float64\n",
      "GiftAvgAll          9686 non-null float64\n",
      "GiftAvgCard36       9686 non-null float64\n",
      "GiftTimeLast        9686 non-null int64\n",
      "GiftTimeFirst       9686 non-null int64\n",
      "PromCnt12           9686 non-null int64\n",
      "PromCnt36           9686 non-null int64\n",
      "PromCntAll          9686 non-null int64\n",
      "PromCntCard12       9686 non-null int64\n",
      "PromCntCard36       9686 non-null int64\n",
      "PromCntCardAll      9686 non-null int64\n",
      "StatusCat96NK       9686 non-null object\n",
      "StatusCatStarAll    9686 non-null int64\n",
      "DemCluster          9686 non-null object\n",
      "DemAge              9686 non-null float64\n",
      "DemGender           9686 non-null object\n",
      "DemHomeOwner        9686 non-null int64\n",
      "DemMedHomeValue     9686 non-null int64\n",
      "DemPctVeterans      9686 non-null int64\n",
      "DemMedIncome        9686 non-null float64\n",
      "dtypes: bool(1), float64(6), int64(16), object(3)\n",
      "memory usage: 1.9+ MB\n"
     ]
    }
   ],
   "source": [
    "df.info()"
   ]
  },
  {
   "cell_type": "code",
   "execution_count": 26,
   "metadata": {},
   "outputs": [
    {
     "data": {
      "text/html": [
       "<div>\n",
       "<style scoped>\n",
       "    .dataframe tbody tr th:only-of-type {\n",
       "        vertical-align: middle;\n",
       "    }\n",
       "\n",
       "    .dataframe tbody tr th {\n",
       "        vertical-align: top;\n",
       "    }\n",
       "\n",
       "    .dataframe thead th {\n",
       "        text-align: right;\n",
       "    }\n",
       "</style>\n",
       "<table border=\"1\" class=\"dataframe\">\n",
       "  <thead>\n",
       "    <tr style=\"text-align: right;\">\n",
       "      <th></th>\n",
       "      <th>GiftCnt36</th>\n",
       "      <th>GiftCntAll</th>\n",
       "      <th>GiftCntCard36</th>\n",
       "      <th>GiftCntCardAll</th>\n",
       "      <th>GiftAvgLast</th>\n",
       "      <th>GiftAvg36</th>\n",
       "      <th>GiftAvgAll</th>\n",
       "      <th>GiftAvgCard36</th>\n",
       "      <th>GiftTimeLast</th>\n",
       "      <th>GiftTimeFirst</th>\n",
       "      <th>...</th>\n",
       "      <th>PromCntAll</th>\n",
       "      <th>PromCntCard12</th>\n",
       "      <th>PromCntCard36</th>\n",
       "      <th>PromCntCardAll</th>\n",
       "      <th>StatusCatStarAll</th>\n",
       "      <th>DemAge</th>\n",
       "      <th>DemHomeOwner</th>\n",
       "      <th>DemMedHomeValue</th>\n",
       "      <th>DemPctVeterans</th>\n",
       "      <th>DemMedIncome</th>\n",
       "    </tr>\n",
       "  </thead>\n",
       "  <tbody>\n",
       "    <tr>\n",
       "      <th>count</th>\n",
       "      <td>9686.000000</td>\n",
       "      <td>9686.000000</td>\n",
       "      <td>9686.000000</td>\n",
       "      <td>9686.000000</td>\n",
       "      <td>9686.000000</td>\n",
       "      <td>9686.000000</td>\n",
       "      <td>9686.000000</td>\n",
       "      <td>9686.000000</td>\n",
       "      <td>9686.000000</td>\n",
       "      <td>9686.000000</td>\n",
       "      <td>...</td>\n",
       "      <td>9686.000000</td>\n",
       "      <td>9686.000000</td>\n",
       "      <td>9686.000000</td>\n",
       "      <td>9686.000000</td>\n",
       "      <td>9686.000000</td>\n",
       "      <td>9686.000000</td>\n",
       "      <td>9686.000000</td>\n",
       "      <td>9686.000000</td>\n",
       "      <td>9686.000000</td>\n",
       "      <td>9686.000000</td>\n",
       "    </tr>\n",
       "    <tr>\n",
       "      <th>mean</th>\n",
       "      <td>3.205451</td>\n",
       "      <td>10.507640</td>\n",
       "      <td>1.856597</td>\n",
       "      <td>5.582490</td>\n",
       "      <td>16.017739</td>\n",
       "      <td>14.876203</td>\n",
       "      <td>12.489325</td>\n",
       "      <td>13.907531</td>\n",
       "      <td>18.002168</td>\n",
       "      <td>71.100351</td>\n",
       "      <td>...</td>\n",
       "      <td>48.483481</td>\n",
       "      <td>5.392009</td>\n",
       "      <td>11.954677</td>\n",
       "      <td>19.007124</td>\n",
       "      <td>0.540574</td>\n",
       "      <td>59.368057</td>\n",
       "      <td>0.555131</td>\n",
       "      <td>110986.299814</td>\n",
       "      <td>30.604274</td>\n",
       "      <td>50979.437229</td>\n",
       "    </tr>\n",
       "    <tr>\n",
       "      <th>std</th>\n",
       "      <td>2.133421</td>\n",
       "      <td>8.993401</td>\n",
       "      <td>1.595419</td>\n",
       "      <td>4.736894</td>\n",
       "      <td>12.041805</td>\n",
       "      <td>10.057007</td>\n",
       "      <td>9.209297</td>\n",
       "      <td>9.079554</td>\n",
       "      <td>4.073549</td>\n",
       "      <td>37.691984</td>\n",
       "      <td>...</td>\n",
       "      <td>23.061483</td>\n",
       "      <td>1.323648</td>\n",
       "      <td>4.571568</td>\n",
       "      <td>8.562193</td>\n",
       "      <td>0.498377</td>\n",
       "      <td>14.309640</td>\n",
       "      <td>0.496977</td>\n",
       "      <td>98670.855450</td>\n",
       "      <td>11.394988</td>\n",
       "      <td>17797.594597</td>\n",
       "    </tr>\n",
       "    <tr>\n",
       "      <th>min</th>\n",
       "      <td>0.000000</td>\n",
       "      <td>1.000000</td>\n",
       "      <td>0.000000</td>\n",
       "      <td>0.000000</td>\n",
       "      <td>0.000000</td>\n",
       "      <td>0.000000</td>\n",
       "      <td>1.500000</td>\n",
       "      <td>1.330000</td>\n",
       "      <td>4.000000</td>\n",
       "      <td>15.000000</td>\n",
       "      <td>...</td>\n",
       "      <td>5.000000</td>\n",
       "      <td>0.000000</td>\n",
       "      <td>2.000000</td>\n",
       "      <td>2.000000</td>\n",
       "      <td>0.000000</td>\n",
       "      <td>2.000000</td>\n",
       "      <td>0.000000</td>\n",
       "      <td>0.000000</td>\n",
       "      <td>0.000000</td>\n",
       "      <td>2499.000000</td>\n",
       "    </tr>\n",
       "    <tr>\n",
       "      <th>25%</th>\n",
       "      <td>2.000000</td>\n",
       "      <td>4.000000</td>\n",
       "      <td>1.000000</td>\n",
       "      <td>2.000000</td>\n",
       "      <td>10.000000</td>\n",
       "      <td>9.600000</td>\n",
       "      <td>7.750000</td>\n",
       "      <td>10.000000</td>\n",
       "      <td>16.000000</td>\n",
       "      <td>36.000000</td>\n",
       "      <td>...</td>\n",
       "      <td>29.000000</td>\n",
       "      <td>5.000000</td>\n",
       "      <td>7.000000</td>\n",
       "      <td>12.000000</td>\n",
       "      <td>0.000000</td>\n",
       "      <td>51.000000</td>\n",
       "      <td>0.000000</td>\n",
       "      <td>52300.000000</td>\n",
       "      <td>25.000000</td>\n",
       "      <td>42775.000000</td>\n",
       "    </tr>\n",
       "    <tr>\n",
       "      <th>50%</th>\n",
       "      <td>3.000000</td>\n",
       "      <td>8.000000</td>\n",
       "      <td>1.000000</td>\n",
       "      <td>4.000000</td>\n",
       "      <td>15.000000</td>\n",
       "      <td>13.500000</td>\n",
       "      <td>10.710000</td>\n",
       "      <td>12.500000</td>\n",
       "      <td>18.000000</td>\n",
       "      <td>68.000000</td>\n",
       "      <td>...</td>\n",
       "      <td>48.000000</td>\n",
       "      <td>6.000000</td>\n",
       "      <td>13.000000</td>\n",
       "      <td>19.000000</td>\n",
       "      <td>1.000000</td>\n",
       "      <td>60.000000</td>\n",
       "      <td>1.000000</td>\n",
       "      <td>76900.000000</td>\n",
       "      <td>31.000000</td>\n",
       "      <td>43100.000000</td>\n",
       "    </tr>\n",
       "    <tr>\n",
       "      <th>75%</th>\n",
       "      <td>4.000000</td>\n",
       "      <td>15.000000</td>\n",
       "      <td>3.000000</td>\n",
       "      <td>8.000000</td>\n",
       "      <td>20.000000</td>\n",
       "      <td>18.500000</td>\n",
       "      <td>15.000000</td>\n",
       "      <td>15.382500</td>\n",
       "      <td>20.000000</td>\n",
       "      <td>105.000000</td>\n",
       "      <td>...</td>\n",
       "      <td>65.000000</td>\n",
       "      <td>6.000000</td>\n",
       "      <td>16.000000</td>\n",
       "      <td>26.000000</td>\n",
       "      <td>1.000000</td>\n",
       "      <td>69.000000</td>\n",
       "      <td>1.000000</td>\n",
       "      <td>128175.000000</td>\n",
       "      <td>37.000000</td>\n",
       "      <td>56876.000000</td>\n",
       "    </tr>\n",
       "    <tr>\n",
       "      <th>max</th>\n",
       "      <td>16.000000</td>\n",
       "      <td>91.000000</td>\n",
       "      <td>9.000000</td>\n",
       "      <td>41.000000</td>\n",
       "      <td>450.000000</td>\n",
       "      <td>260.000000</td>\n",
       "      <td>450.000000</td>\n",
       "      <td>260.000000</td>\n",
       "      <td>27.000000</td>\n",
       "      <td>260.000000</td>\n",
       "      <td>...</td>\n",
       "      <td>174.000000</td>\n",
       "      <td>17.000000</td>\n",
       "      <td>28.000000</td>\n",
       "      <td>56.000000</td>\n",
       "      <td>1.000000</td>\n",
       "      <td>87.000000</td>\n",
       "      <td>1.000000</td>\n",
       "      <td>600000.000000</td>\n",
       "      <td>85.000000</td>\n",
       "      <td>200001.000000</td>\n",
       "    </tr>\n",
       "  </tbody>\n",
       "</table>\n",
       "<p>8 rows × 22 columns</p>\n",
       "</div>"
      ],
      "text/plain": [
       "         GiftCnt36   GiftCntAll  GiftCntCard36  GiftCntCardAll  GiftAvgLast  \\\n",
       "count  9686.000000  9686.000000    9686.000000     9686.000000  9686.000000   \n",
       "mean      3.205451    10.507640       1.856597        5.582490    16.017739   \n",
       "std       2.133421     8.993401       1.595419        4.736894    12.041805   \n",
       "min       0.000000     1.000000       0.000000        0.000000     0.000000   \n",
       "25%       2.000000     4.000000       1.000000        2.000000    10.000000   \n",
       "50%       3.000000     8.000000       1.000000        4.000000    15.000000   \n",
       "75%       4.000000    15.000000       3.000000        8.000000    20.000000   \n",
       "max      16.000000    91.000000       9.000000       41.000000   450.000000   \n",
       "\n",
       "         GiftAvg36   GiftAvgAll  GiftAvgCard36  GiftTimeLast  GiftTimeFirst  \\\n",
       "count  9686.000000  9686.000000    9686.000000   9686.000000    9686.000000   \n",
       "mean     14.876203    12.489325      13.907531     18.002168      71.100351   \n",
       "std      10.057007     9.209297       9.079554      4.073549      37.691984   \n",
       "min       0.000000     1.500000       1.330000      4.000000      15.000000   \n",
       "25%       9.600000     7.750000      10.000000     16.000000      36.000000   \n",
       "50%      13.500000    10.710000      12.500000     18.000000      68.000000   \n",
       "75%      18.500000    15.000000      15.382500     20.000000     105.000000   \n",
       "max     260.000000   450.000000     260.000000     27.000000     260.000000   \n",
       "\n",
       "       ...   PromCntAll  PromCntCard12  PromCntCard36  PromCntCardAll  \\\n",
       "count  ...  9686.000000    9686.000000    9686.000000     9686.000000   \n",
       "mean   ...    48.483481       5.392009      11.954677       19.007124   \n",
       "std    ...    23.061483       1.323648       4.571568        8.562193   \n",
       "min    ...     5.000000       0.000000       2.000000        2.000000   \n",
       "25%    ...    29.000000       5.000000       7.000000       12.000000   \n",
       "50%    ...    48.000000       6.000000      13.000000       19.000000   \n",
       "75%    ...    65.000000       6.000000      16.000000       26.000000   \n",
       "max    ...   174.000000      17.000000      28.000000       56.000000   \n",
       "\n",
       "       StatusCatStarAll       DemAge  DemHomeOwner  DemMedHomeValue  \\\n",
       "count       9686.000000  9686.000000   9686.000000      9686.000000   \n",
       "mean           0.540574    59.368057      0.555131    110986.299814   \n",
       "std            0.498377    14.309640      0.496977     98670.855450   \n",
       "min            0.000000     2.000000      0.000000         0.000000   \n",
       "25%            0.000000    51.000000      0.000000     52300.000000   \n",
       "50%            1.000000    60.000000      1.000000     76900.000000   \n",
       "75%            1.000000    69.000000      1.000000    128175.000000   \n",
       "max            1.000000    87.000000      1.000000    600000.000000   \n",
       "\n",
       "       DemPctVeterans   DemMedIncome  \n",
       "count     9686.000000    9686.000000  \n",
       "mean        30.604274   50979.437229  \n",
       "std         11.394988   17797.594597  \n",
       "min          0.000000    2499.000000  \n",
       "25%         25.000000   42775.000000  \n",
       "50%         31.000000   43100.000000  \n",
       "75%         37.000000   56876.000000  \n",
       "max         85.000000  200001.000000  \n",
       "\n",
       "[8 rows x 22 columns]"
      ]
     },
     "execution_count": 26,
     "metadata": {},
     "output_type": "execute_result"
    }
   ],
   "source": [
    "df.describe()"
   ]
  },
  {
   "cell_type": "code",
   "execution_count": null,
   "metadata": {},
   "outputs": [],
   "source": []
  }
 ],
 "metadata": {
  "kernelspec": {
   "display_name": "Python 3",
   "language": "python",
   "name": "python3"
  },
  "language_info": {
   "codemirror_mode": {
    "name": "ipython",
    "version": 3
   },
   "file_extension": ".py",
   "mimetype": "text/x-python",
   "name": "python",
   "nbconvert_exporter": "python",
   "pygments_lexer": "ipython3",
   "version": "3.7.3"
  }
 },
 "nbformat": 4,
 "nbformat_minor": 2
}
